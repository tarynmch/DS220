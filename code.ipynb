{
 "cells": [
  {
   "cell_type": "markdown",
   "id": "91421d73-c42b-4ea7-adcc-2688ede7cd29",
   "metadata": {},
   "source": [
    "# Project 2 Data Science 220\n",
    "\n",
    "## Our Team: \n",
    "Liliana Inkpen: Processed, cleaned, and wrangling data into any needed formats. Helped perform exploratory data analysis and visualization and mapped questions into queries on Pandas. <br>\n",
    "Fiona Rubino: Found dataset and helped create each question to analyze. Communicated insights as a text to shaer with others. <br>\n",
    "Nathan Pechulis: Worked on questions to analyze and data wrangling the data set. Map questions into queries on the Pandas to find answers. <br>\n",
    "Taryn McHugh: Created Github page, codespace, and largely worked on writing any pose. Helped collaborate on overall project. \n",
    "\n",
    "## Our Dataset\n",
    "**IBDM 2280 Most Voted Movies**: This tabular dataset consists of listings of all the movies and tv shows available on Netflix, along with details such as - cast, directors, ratings, release year, duration, etc\n",
    "<br>\n",
    "- **index:** indexing the numbers in descending order from max votes to less\n",
    "- **title:** title of movie/series \n",
    "- **rtime:** runtime of movie/series \n",
    "- **rating:** IMDB rating  \n",
    "- **votes:** number of votes it gets on IMDB \n",
    "- **genre:** genre of movie/series seperated by '|' \n",
    "- **country:** countries in which Movie/Series got released, separated by '|'\n",
    "- **releasedate:** date of release\n",
    "- **filminglocation:** locations where it got shoot, separated by '|'\n",
    "- **prodco:** production Companies, separated by '|'\n",
    "- **years:** year in which it was released\n",
    "- **director:** director of Movie/Series\n",
    "- **writer:** writers of Movie/Series, separated by '|'\n",
    "- **actors:** actors which performed in Movie/Series, separated by '|'\n",
    "- **budget:** budget of Movie/Series\n",
    "- **gross:** gross Income of Movie/Series\n",
    "- **aspectratio:** asect Ratio of Movie/Series\n",
    "\n",
    "\n"
   ]
  },
  {
   "cell_type": "code",
   "execution_count": 1,
   "id": "001e2580-1bd4-4b1d-91de-9cbeb860464d",
   "metadata": {},
   "outputs": [
    {
     "data": {
      "text/html": [
       "<div>\n",
       "<style scoped>\n",
       "    .dataframe tbody tr th:only-of-type {\n",
       "        vertical-align: middle;\n",
       "    }\n",
       "\n",
       "    .dataframe tbody tr th {\n",
       "        vertical-align: top;\n",
       "    }\n",
       "\n",
       "    .dataframe thead th {\n",
       "        text-align: right;\n",
       "    }\n",
       "</style>\n",
       "<table border=\"1\" class=\"dataframe\">\n",
       "  <thead>\n",
       "    <tr style=\"text-align: right;\">\n",
       "      <th></th>\n",
       "      <th>index</th>\n",
       "      <th>title</th>\n",
       "      <th>rtime</th>\n",
       "      <th>rating</th>\n",
       "      <th>votes</th>\n",
       "      <th>genre</th>\n",
       "      <th>country</th>\n",
       "      <th>releasedate</th>\n",
       "      <th>filminglocation</th>\n",
       "      <th>prodco</th>\n",
       "      <th>years</th>\n",
       "      <th>director</th>\n",
       "      <th>writer</th>\n",
       "      <th>actors</th>\n",
       "      <th>color</th>\n",
       "      <th>budget</th>\n",
       "      <th>gross</th>\n",
       "      <th>aspectratio</th>\n",
       "      <th>movielink</th>\n",
       "    </tr>\n",
       "  </thead>\n",
       "  <tbody>\n",
       "    <tr>\n",
       "      <th>0</th>\n",
       "      <td>1</td>\n",
       "      <td>The Shawshank Redemption</td>\n",
       "      <td>142min</td>\n",
       "      <td>9.3</td>\n",
       "      <td>1853413</td>\n",
       "      <td>Crime|Drama</td>\n",
       "      <td>USA</td>\n",
       "      <td>14October1994(USA)</td>\n",
       "      <td>St.Croix|U.S.VirginIslands</td>\n",
       "      <td>CastleRockEntertainment</td>\n",
       "      <td>1994.0</td>\n",
       "      <td>FrankDarabont</td>\n",
       "      <td>StephenKing(shortstory\"RitaHayworthandShawshan...</td>\n",
       "      <td>TimRobbins|BobGunton|ClancyBrown|MarkRolston|J...</td>\n",
       "      <td>Color(Technicolor)</td>\n",
       "      <td>$25000000 estimated</td>\n",
       "      <td>$28341469(USA)</td>\n",
       "      <td>1.85:1</td>\n",
       "      <td>http://www.imdb.com/title/tt0111161/?ref_=adv_...</td>\n",
       "    </tr>\n",
       "    <tr>\n",
       "      <th>1</th>\n",
       "      <td>2</td>\n",
       "      <td>The Dark Knight</td>\n",
       "      <td>152min</td>\n",
       "      <td>9.0</td>\n",
       "      <td>1832266</td>\n",
       "      <td>Action|Crime|Drama</td>\n",
       "      <td>USA|UK</td>\n",
       "      <td>18July2008(India)</td>\n",
       "      <td>TimesSquare|CausewayBay|HongKong</td>\n",
       "      <td>WarnerBros.|LegendaryEntertainment|Syncopy</td>\n",
       "      <td>2008.0</td>\n",
       "      <td>ChristopherNolan</td>\n",
       "      <td>JonathanNolan(screenplay)|ChristopherNolan(scr...</td>\n",
       "      <td>ChristianBale|AaronEckhart|MaggieGyllenhaal|Mo...</td>\n",
       "      <td>Color(Technicolor)</td>\n",
       "      <td>$185000000 estimated</td>\n",
       "      <td>$533316061(USA)(27February2009)</td>\n",
       "      <td>2.35:1</td>\n",
       "      <td>http://www.imdb.com/title/tt0468569/?ref_=adv_...</td>\n",
       "    </tr>\n",
       "    <tr>\n",
       "      <th>2</th>\n",
       "      <td>3</td>\n",
       "      <td>Inception</td>\n",
       "      <td>148min</td>\n",
       "      <td>8.8</td>\n",
       "      <td>1622144</td>\n",
       "      <td>Action|Adventure|Sci-Fi</td>\n",
       "      <td>USA|UK</td>\n",
       "      <td>16July2010(India)</td>\n",
       "      <td>Bedfordshire|England|UK</td>\n",
       "      <td>WarnerBros.|LegendaryEntertainment|Syncopy</td>\n",
       "      <td>2010.0</td>\n",
       "      <td>ChristopherNolan</td>\n",
       "      <td>NaN</td>\n",
       "      <td>LeonardoDiCaprio|EllenPage|KenWatanabe|Cillian...</td>\n",
       "      <td>Color</td>\n",
       "      <td>$160000000 estimated</td>\n",
       "      <td>$292568851(USA)(31December2010)</td>\n",
       "      <td>2.35:1</td>\n",
       "      <td>http://www.imdb.com/title/tt1375666/?ref_=adv_...</td>\n",
       "    </tr>\n",
       "    <tr>\n",
       "      <th>3</th>\n",
       "      <td>4</td>\n",
       "      <td>Fight Club</td>\n",
       "      <td>139min</td>\n",
       "      <td>8.8</td>\n",
       "      <td>1485542</td>\n",
       "      <td>Drama</td>\n",
       "      <td>USA|Germany</td>\n",
       "      <td>15October1999(USA)</td>\n",
       "      <td>421W.EighthStreet|LosAngeles|California|USA</td>\n",
       "      <td>Fox2000Pictures|RegencyEnterprises|LinsonFilms</td>\n",
       "      <td>1999.0</td>\n",
       "      <td>DavidFincher</td>\n",
       "      <td>ChuckPalahniuk(novel)|JimUhls(screenplay)</td>\n",
       "      <td>EdwardNorton|MeatLoaf|RichmondArquette|GeorgeM...</td>\n",
       "      <td>Color</td>\n",
       "      <td>$63000000 estimated</td>\n",
       "      <td>$37023395(USA)(25February2000)</td>\n",
       "      <td>2.35:1</td>\n",
       "      <td>http://www.imdb.com/title/tt0137523/?ref_=adv_...</td>\n",
       "    </tr>\n",
       "    <tr>\n",
       "      <th>4</th>\n",
       "      <td>5</td>\n",
       "      <td>Pulp Fiction</td>\n",
       "      <td>154min</td>\n",
       "      <td>8.9</td>\n",
       "      <td>1450538</td>\n",
       "      <td>Crime|Drama</td>\n",
       "      <td>USA</td>\n",
       "      <td>14October1994(USA)</td>\n",
       "      <td>1435FlowerStreet|Glendale|California|USA</td>\n",
       "      <td>Miramax|ABandApart|JerseyFilms</td>\n",
       "      <td>1994.0</td>\n",
       "      <td>QuentinTarantino</td>\n",
       "      <td>QuentinTarantino(stories)|RogerAvary(stories)|...</td>\n",
       "      <td>TimRoth|LauraLovelace|SamuelL.Jackson|FrankWha...</td>\n",
       "      <td>Color</td>\n",
       "      <td>$8000000 estimated</td>\n",
       "      <td>$107930000(USA)</td>\n",
       "      <td>2.35:1</td>\n",
       "      <td>http://www.imdb.com/title/tt0110912/?ref_=adv_...</td>\n",
       "    </tr>\n",
       "  </tbody>\n",
       "</table>\n",
       "</div>"
      ],
      "text/plain": [
       "   index                     title   rtime  rating    votes  \\\n",
       "0      1  The Shawshank Redemption  142min     9.3  1853413   \n",
       "1      2           The Dark Knight  152min     9.0  1832266   \n",
       "2      3                 Inception  148min     8.8  1622144   \n",
       "3      4                Fight Club  139min     8.8  1485542   \n",
       "4      5              Pulp Fiction  154min     8.9  1450538   \n",
       "\n",
       "                     genre      country         releasedate  \\\n",
       "0              Crime|Drama          USA  14October1994(USA)   \n",
       "1       Action|Crime|Drama       USA|UK   18July2008(India)   \n",
       "2  Action|Adventure|Sci-Fi       USA|UK   16July2010(India)   \n",
       "3                    Drama  USA|Germany  15October1999(USA)   \n",
       "4              Crime|Drama          USA  14October1994(USA)   \n",
       "\n",
       "                               filminglocation  \\\n",
       "0                   St.Croix|U.S.VirginIslands   \n",
       "1             TimesSquare|CausewayBay|HongKong   \n",
       "2                      Bedfordshire|England|UK   \n",
       "3  421W.EighthStreet|LosAngeles|California|USA   \n",
       "4     1435FlowerStreet|Glendale|California|USA   \n",
       "\n",
       "                                           prodco   years           director  \\\n",
       "0                         CastleRockEntertainment  1994.0     FrankDarabont    \n",
       "1      WarnerBros.|LegendaryEntertainment|Syncopy  2008.0  ChristopherNolan    \n",
       "2      WarnerBros.|LegendaryEntertainment|Syncopy  2010.0  ChristopherNolan    \n",
       "3  Fox2000Pictures|RegencyEnterprises|LinsonFilms  1999.0      DavidFincher    \n",
       "4                  Miramax|ABandApart|JerseyFilms  1994.0  QuentinTarantino    \n",
       "\n",
       "                                              writer  \\\n",
       "0  StephenKing(shortstory\"RitaHayworthandShawshan...   \n",
       "1  JonathanNolan(screenplay)|ChristopherNolan(scr...   \n",
       "2                                                NaN   \n",
       "3          ChuckPalahniuk(novel)|JimUhls(screenplay)   \n",
       "4  QuentinTarantino(stories)|RogerAvary(stories)|...   \n",
       "\n",
       "                                              actors               color  \\\n",
       "0  TimRobbins|BobGunton|ClancyBrown|MarkRolston|J...  Color(Technicolor)   \n",
       "1  ChristianBale|AaronEckhart|MaggieGyllenhaal|Mo...  Color(Technicolor)   \n",
       "2  LeonardoDiCaprio|EllenPage|KenWatanabe|Cillian...               Color   \n",
       "3  EdwardNorton|MeatLoaf|RichmondArquette|GeorgeM...               Color   \n",
       "4  TimRoth|LauraLovelace|SamuelL.Jackson|FrankWha...               Color   \n",
       "\n",
       "                  budget                            gross aspectratio  \\\n",
       "0   $25000000 estimated                    $28341469(USA)      1.85:1   \n",
       "1  $185000000 estimated   $533316061(USA)(27February2009)      2.35:1   \n",
       "2  $160000000 estimated   $292568851(USA)(31December2010)      2.35:1   \n",
       "3   $63000000 estimated    $37023395(USA)(25February2000)      2.35:1   \n",
       "4    $8000000 estimated                   $107930000(USA)      2.35:1   \n",
       "\n",
       "                                           movielink  \n",
       "0  http://www.imdb.com/title/tt0111161/?ref_=adv_...  \n",
       "1  http://www.imdb.com/title/tt0468569/?ref_=adv_...  \n",
       "2  http://www.imdb.com/title/tt1375666/?ref_=adv_...  \n",
       "3  http://www.imdb.com/title/tt0137523/?ref_=adv_...  \n",
       "4  http://www.imdb.com/title/tt0110912/?ref_=adv_...  "
      ]
     },
     "execution_count": 1,
     "metadata": {},
     "output_type": "execute_result"
    }
   ],
   "source": [
    "import numpy as np\n",
    "import pandas as pd\n",
    "import matplotlib.pyplot as plt\n",
    "IBDMData = pd.read_csv('IMDB_2280_Most_Voted_Movies.csv')\n",
    "IBDMData.head()\n"
   ]
  },
  {
   "cell_type": "markdown",
   "id": "82f4e0ac-76be-45b7-aa03-2e43834aa761",
   "metadata": {},
   "source": [
    "# EXPLORATORY DATA ANAYLISIS/DATA VISUALIZATION"
   ]
  },
  {
   "cell_type": "code",
   "execution_count": null,
   "id": "b5d7484d-df2b-444a-835a-eb985d43eeda",
   "metadata": {},
   "outputs": [],
   "source": [
    "a = np.array([1, 3, 2])\n",
    "len(a)\n",
    "a.sort()\n",
    "a"
   ]
  },
  {
   "cell_type": "markdown",
   "id": "f4113b1d-3724-4b1a-8552-b14275afcf71",
   "metadata": {},
   "source": [
    "**arange** : In analogy with the list range() function, we can create array ranges in NumPy using np.arange()"
   ]
  },
  {
   "cell_type": "code",
   "execution_count": null,
   "id": "20cd0717-7b6b-4245-8474-02a9bd947175",
   "metadata": {},
   "outputs": [],
   "source": [
    "r = np.arange(17)\n",
    "r"
   ]
  },
  {
   "cell_type": "markdown",
   "id": "d7e8710f-4248-4468-8f88-ac042bf3f67a",
   "metadata": {},
   "source": [
    "Computations with numpy arrays are **much faster** than the corresponding operations with lists. Because NumPy itself is array-based, such computations **can also typically be expressed much more compactly**, without the need for loops or even comprehensions. In particular, NumPy arrays support vectorized operations, whereby we can (say) multiply every element in an array by a particular number all at once."
   ]
  },
  {
   "cell_type": "markdown",
   "id": "d6b48b25-3f78-49e1-bc0b-4080ed82e587",
   "metadata": {},
   "source": [
    "Import the numPy, Matplotlib and pandas libraries into the Python interpreter\n",
    "Then load the data set for the Nobel Laureates and show the summary stats for numeric fields"
   ]
  },
  {
   "cell_type": "code",
   "execution_count": null,
   "id": "085a20dc-b248-4376-a916-cd861df7b06a",
   "metadata": {},
   "outputs": [],
   "source": [
    "[3 * i for i in r]   # This is Python can be expressed more compactly as \n",
    "3 * a                # in numpy"
   ]
  },
  {
   "cell_type": "markdown",
   "id": "daf16140-4f28-48a8-8d21-432e0a2360ec",
   "metadata": {},
   "source": [
    "**timeit** - we can use the timeit library to compare execution speeds for normal\n",
    "Python and numpy structures. It Python let's do some heavy computation and time it:"
   ]
  },
  {
   "cell_type": "code",
   "execution_count": null,
   "id": "e3c55ca4-c910-44c7-ab76-e06e513ce41c",
   "metadata": {},
   "outputs": [],
   "source": [
    "%%timeit\n",
    "[i**2 for i in range(1000)]"
   ]
  },
  {
   "cell_type": "markdown",
   "id": "47316b26-2be3-430f-bbc5-10c6b88b568e",
   "metadata": {},
   "source": [
    "using numpy?  -- You should see a huge difference in speeds!"
   ]
  },
  {
   "cell_type": "code",
   "execution_count": null,
   "id": "f88c7662-eeeb-4fe1-9d80-2b445cee5e9d",
   "metadata": {},
   "outputs": [],
   "source": [
    "%%timeit\n",
    "np.arange(1000)**2"
   ]
  },
  {
   "cell_type": "markdown",
   "id": "7f66b275-356a-40a4-ac56-fb82f5577c08",
   "metadata": {},
   "source": [
    "Numpy also provides support for **multi-dimensional arrays**"
   ]
  },
  {
   "cell_type": "code",
   "execution_count": null,
   "id": "444d19ef-5b9d-41a8-b444-c930be369c99",
   "metadata": {},
   "outputs": [],
   "source": [
    "a = np.array([[1, 2, 3], [4, 5, 6]])\n",
    "a"
   ]
  },
  {
   "cell_type": "markdown",
   "id": "3d898e4a-5127-4a58-9e42-87c2cfef579c",
   "metadata": {},
   "source": [
    "# **Data Visualization with Matplotlib**\n",
    "Matplotlib is a powerful visualization tool for Python that can do an absurdly large number of awesome things.\n",
    "The exact mechanics of getting Matplotlib plots to display varies widely depending on the exact details of your setup. The most explicit way to show plots, which works on most systems from the REPL, is to use the show() method:\n"
   ]
  },
  {
   "cell_type": "code",
   "execution_count": null,
   "id": "9bbc95ca-85fc-4a22-adf1-06a1bc2fe520",
   "metadata": {},
   "outputs": [],
   "source": [
    "import numpy as np\n",
    "import matplotlib.pyplot as plt\n",
    "x = np.linspace(-2, 2, 100)\n",
    "fig, ax = plt.subplots(1, 1)\n",
    "ax.plot(x, x*x)\n",
    "plt.show()\n",
    "%matplotlib inline"
   ]
  },
  {
   "cell_type": "code",
   "execution_count": null,
   "id": "b6ec5efc-b6cb-49c3-9e2e-b784b8fe77af",
   "metadata": {
    "scrolled": true
   },
   "outputs": [],
   "source": [
    "import numpy as np\n",
    "import matplotlib.pyplot as plt\n",
    "import pandas as pd\n",
    "\n",
    "nobel = pd.read_csv(\"laureates.csv\")\n",
    "nobel.describe()"
   ]
  },
  {
   "cell_type": "code",
   "execution_count": null,
   "id": "95f691ad-92bb-4b22-a409-bd6581050c69",
   "metadata": {},
   "outputs": [],
   "source": [
    "nobel.head(10)"
   ]
  },
  {
   "cell_type": "code",
   "execution_count": null,
   "id": "c02ee242-fde4-4942-812b-72aa6cdb0e69",
   "metadata": {},
   "outputs": [],
   "source": [
    "nobel.info()"
   ]
  },
  {
   "cell_type": "markdown",
   "id": "cc97a4ed-533c-430f-8d95-7be001ffad80",
   "metadata": {},
   "source": [
    "Let’s use array square brackets and a boolean criterion on the \"surname\" column to find record for the Physics noble laureate Feynman "
   ]
  },
  {
   "cell_type": "code",
   "execution_count": null,
   "id": "c61641f7-2c81-4ec4-87b4-69ee1bb320de",
   "metadata": {},
   "outputs": [],
   "source": [
    "nobel[nobel[\"surname\"] == \"Feynman\"]"
   ]
  },
  {
   "cell_type": "code",
   "execution_count": null,
   "id": "6dcc1e51-6af5-4914-843c-f2c04746e483",
   "metadata": {},
   "outputs": [],
   "source": [
    "nobel[nobel[\"surname\"] == \"Feynman\"].year"
   ]
  },
  {
   "cell_type": "markdown",
   "id": "8c610b93-0638-4d35-bb3f-1803befe1778",
   "metadata": {},
   "source": [
    "By using the correct index (i.e., 86), we can confirm that the value in that case is True:"
   ]
  },
  {
   "cell_type": "code",
   "execution_count": null,
   "id": "691716a5-b67b-40bf-b691-5a681039ef46",
   "metadata": {},
   "outputs": [],
   "source": [
    "(nobel[\"surname\"] == \"Feynman\")[86]"
   ]
  },
  {
   "cell_type": "markdown",
   "id": "529bcaf6-2d23-41fa-bd4c-d39dfc8b2d5c",
   "metadata": {},
   "source": [
    "Another method for getting the year is by specifying the column along with the boolean criterion, which we might try like this (only the most relevant line of output is shown). This returns just the overall id (in this case, 86) and the column of interest."
   ]
  },
  {
   "cell_type": "code",
   "execution_count": null,
   "id": "6698e0bc-650a-40d4-ad9c-a609728f26ff",
   "metadata": {},
   "outputs": [],
   "source": [
    "nobel.loc[nobel[\"surname\"] == \"Feynman\", \"year\"]"
   ]
  },
  {
   "cell_type": "code",
   "execution_count": null,
   "id": "80fc45a0-4bc7-43c7-98f0-0e67dc5ae201",
   "metadata": {},
   "outputs": [],
   "source": [
    "nobel.loc[nobel[\"firstname\"].str.contains(\"Kip\")]"
   ]
  },
  {
   "cell_type": "code",
   "execution_count": null,
   "id": "04f391e7-044e-40be-9c0f-f866aac5740a",
   "metadata": {},
   "outputs": [],
   "source": [
    "nobel.loc[nobel[\"surname\"].isnull()]"
   ]
  },
  {
   "cell_type": "code",
   "execution_count": null,
   "id": "76a43647-3abe-4642-bb6b-e4f104cdb2cc",
   "metadata": {},
   "outputs": [],
   "source": [
    "nobel.loc[nobel[\"surname\"].str.contains(\"Feynman\", na=False)]"
   ]
  },
  {
   "cell_type": "code",
   "execution_count": null,
   "id": "a472e758-1d81-44b2-8780-6833c4b84459",
   "metadata": {},
   "outputs": [],
   "source": [
    "curies = nobel.loc[nobel[\"surname\"].str.contains(\"Curie\", na=False)]\n",
    "curies"
   ]
  },
  {
   "cell_type": "code",
   "execution_count": null,
   "id": "155371bf-46cb-4847-80e2-c3de3351d80a",
   "metadata": {},
   "outputs": [],
   "source": [
    "curies[[\"firstname\", \"surname\"]]"
   ]
  },
  {
   "cell_type": "code",
   "execution_count": null,
   "id": "00e1f371-7c6a-4464-8c02-63e8c43a8c88",
   "metadata": {},
   "outputs": [],
   "source": [
    "nobel.groupby([\"firstname\", \"surname\"]).size()"
   ]
  },
  {
   "cell_type": "code",
   "execution_count": null,
   "id": "95b4aa3d-ceb4-4e31-8537-1c75af5885bd",
   "metadata": {},
   "outputs": [],
   "source": [
    "nobel.groupby([\"firstname\", \"surname\"]).size().sort_values()"
   ]
  },
  {
   "cell_type": "code",
   "execution_count": null,
   "id": "37664b3a-a15b-4aab-a977-e36212abf6ee",
   "metadata": {},
   "outputs": [],
   "source": [
    "laureates = nobel.groupby([\"id\", \"firstname\", \"surname\"])\n",
    "sizes = laureates.size()\n",
    "sizes[sizes > 1]"
   ]
  },
  {
   "cell_type": "code",
   "execution_count": null,
   "id": "157a5a37-b91e-4876-855e-c4c7d3bf169b",
   "metadata": {},
   "outputs": [],
   "source": [
    "nobel.loc[nobel[\"born\"] == \"1879-03-14\"]"
   ]
  },
  {
   "cell_type": "code",
   "execution_count": null,
   "id": "0deb4869-ff15-48d5-9857-1b1ee0d8e2a4",
   "metadata": {},
   "outputs": [],
   "source": [
    "nobel.loc[nobel[\"born\"].str.contains(\"06-08\", na=False)]"
   ]
  }
 ],
 "metadata": {
  "kernelspec": {
   "display_name": "Python 3 (ipykernel)",
   "language": "python",
   "name": "python3"
  },
  "language_info": {
   "codemirror_mode": {
    "name": "ipython",
    "version": 3
   },
   "file_extension": ".py",
   "mimetype": "text/x-python",
   "name": "python",
   "nbconvert_exporter": "python",
   "pygments_lexer": "ipython3",
   "version": "3.10.13"
  }
 },
 "nbformat": 4,
 "nbformat_minor": 5
}
